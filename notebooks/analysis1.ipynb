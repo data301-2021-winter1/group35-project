{
 "cells": [
  {
   "cell_type": "markdown",
   "metadata": {},
   "source": [
    "# Joshua Milliken"
   ]
  },
  {
   "cell_type": "markdown",
   "metadata": {},
   "source": [
    "## Best Inequality Statistic for Corruption Perception Predictions\n",
    "\n",
    "Looking at many inequality indicators and finding which has the highest correlation with the Corruption Perception Index (CPI)."
   ]
  },
  {
   "cell_type": "code",
   "execution_count": 17,
   "metadata": {},
   "outputs": [],
   "source": []
  },
  {
   "cell_type": "code",
   "execution_count": 18,
   "metadata": {},
   "outputs": [
    {
     "name": "stdout",
     "output_type": "stream",
     "text": [
      "    Jurisdiction 1998 1999 2000 2001 2002 2003 2004 2005 2006 2007 2008 2009  \\\n",
      "0    Afghanistan    -    -    -    -    -    -    -  2.5    -  1.8  1.5  1.3   \n",
      "1        Albania    -  2.3    -    -  2.5  2.5  2.5  2.4  2.6  2.9  3.4  3.2   \n",
      "2        Algeria    -    -    -    -    -  2.6  2.7  2.8  3.1    3  3.2  2.8   \n",
      "3         Angola    -    -  1.7    -  1.7  1.8    2    2  2.2  2.2  1.9  1.9   \n",
      "4      Argentina    3    3  3.5  3.5  2.8  2.5  2.5  2.8  2.9  2.9  2.9  2.9   \n",
      "..           ...  ...  ...  ...  ...  ...  ...  ...  ...  ...  ...  ...  ...   \n",
      "222     Viet Nam    -    -    -    -    -    -    -    -  2.6  2.6  2.7    -   \n",
      "223        Yemen    -    -    -    -    -  2.6  2.4  2.7  2.6  2.5  2.3  2.1   \n",
      "224   Yugoslavia    3    2  1.3    -    -    -    -    -    -    -    -    -   \n",
      "225       Zambia  3.5  3.5  3.4  2.6  2.6  2.5  2.6  2.6  2.6  2.6  2.8    3   \n",
      "226     Zimbabwe  4.2  4.1    3  2.9  2.7  2.3  2.3  2.6  2.4  2.1  1.8  2.2   \n",
      "\n",
      "    2010  2011 2012 2013 2014 2015  \n",
      "0    1.4  1.52    8    8   12   11  \n",
      "1    3.3  3.05   33   31   33   36  \n",
      "2    2.9   2.9   34   36   36   36  \n",
      "3    1.9  2.01   22   23   19   15  \n",
      "4    2.9     3   35   34   34   32  \n",
      "..   ...   ...  ...  ...  ...  ...  \n",
      "222    -     -    -    -    -    -  \n",
      "223  2.2  2.08   23   18   19   18  \n",
      "224    -     -    -    -    -    -  \n",
      "225    3   3.2   37   38   38   38  \n",
      "226  2.4  2.23   20   21   21   21  \n",
      "\n",
      "[227 rows x 19 columns]\n",
      "    Jurisdiction 1998 1999 2000 2001 2002 2003 2004 2005 2006 2007 2008 2009  \\\n",
      "0    Afghanistan    -    -    -    -    -    -    -  2.5    -  1.8  1.5  1.3   \n",
      "1        Albania    -  2.3    -    -  2.5  2.5  2.5  2.4  2.6  2.9  3.4  3.2   \n",
      "2        Algeria    -    -    -    -    -  2.6  2.7  2.8  3.1    3  3.2  2.8   \n",
      "3         Angola    -    -  1.7    -  1.7  1.8    2    2  2.2  2.2  1.9  1.9   \n",
      "4      Argentina    3    3  3.5  3.5  2.8  2.5  2.5  2.8  2.9  2.9  2.9  2.9   \n",
      "..           ...  ...  ...  ...  ...  ...  ...  ...  ...  ...  ...  ...  ...   \n",
      "222     Viet Nam    -    -    -    -    -    -    -    -  2.6  2.6  2.7    -   \n",
      "223        Yemen    -    -    -    -    -  2.6  2.4  2.7  2.6  2.5  2.3  2.1   \n",
      "224   Yugoslavia    3    2  1.3    -    -    -    -    -    -    -    -    -   \n",
      "225       Zambia  3.5  3.5  3.4  2.6  2.6  2.5  2.6  2.6  2.6  2.6  2.8    3   \n",
      "226     Zimbabwe  4.2  4.1    3  2.9  2.7  2.3  2.3  2.6  2.4  2.1  1.8  2.2   \n",
      "\n",
      "    2010  2011 2012 2013 2014 2015  \n",
      "0    1.4  1.52    8    8   12   11  \n",
      "1    3.3  3.05   33   31   33   36  \n",
      "2    2.9   2.9   34   36   36   36  \n",
      "3    1.9  2.01   22   23   19   15  \n",
      "4    2.9     3   35   34   34   32  \n",
      "..   ...   ...  ...  ...  ...  ...  \n",
      "222    -     -    -    -    -    -  \n",
      "223  2.2  2.08   23   18   19   18  \n",
      "224    -     -    -    -    -    -  \n",
      "225    3   3.2   37   38   38   38  \n",
      "226  2.4  2.23   20   21   21   21  \n",
      "\n",
      "[227 rows x 19 columns]\n"
     ]
    }
   ],
   "source": [
    "import datapackage\n",
    "import pandas as pd\n",
    "\n",
    "data_url = 'https://datahub.io/core/corruption-perceptions-index/datapackage.json'\n",
    "\n",
    "package = datapackage.Package(data_url)\n",
    "\n",
    "resources = package.resources\n",
    "for resource in resources:\n",
    "    if resource.tabular:\n",
    "        data = pd.read_csv(resource.descriptor['path'])\n",
    "        print (data)\n"
   ]
  },
  {
   "cell_type": "code",
   "execution_count": 24,
   "metadata": {},
   "outputs": [
    {
     "data": {
      "text/html": [
       "<div>\n",
       "<style scoped>\n",
       "    .dataframe tbody tr th:only-of-type {\n",
       "        vertical-align: middle;\n",
       "    }\n",
       "\n",
       "    .dataframe tbody tr th {\n",
       "        vertical-align: top;\n",
       "    }\n",
       "\n",
       "    .dataframe thead th {\n",
       "        text-align: right;\n",
       "    }\n",
       "</style>\n",
       "<table border=\"1\" class=\"dataframe\">\n",
       "  <thead>\n",
       "    <tr style=\"text-align: right;\">\n",
       "      <th></th>\n",
       "      <th>0</th>\n",
       "      <th>1</th>\n",
       "      <th>2</th>\n",
       "      <th>3</th>\n",
       "      <th>4</th>\n",
       "    </tr>\n",
       "  </thead>\n",
       "  <tbody>\n",
       "    <tr>\n",
       "      <th>0</th>\n",
       "      <td>alpha2</td>\n",
       "      <td>titlename</td>\n",
       "      <td>shortname</td>\n",
       "      <td>region</td>\n",
       "      <td>region2</td>\n",
       "    </tr>\n",
       "    <tr>\n",
       "      <th>1</th>\n",
       "      <td>AM</td>\n",
       "      <td>Armenia</td>\n",
       "      <td>Armenia</td>\n",
       "      <td>Asia</td>\n",
       "      <td>Western Asia</td>\n",
       "    </tr>\n",
       "    <tr>\n",
       "      <th>2</th>\n",
       "      <td>AN</td>\n",
       "      <td>the Netherlands Antilles</td>\n",
       "      <td>Netherlands Antilles</td>\n",
       "      <td>Americas</td>\n",
       "      <td>Caribbean</td>\n",
       "    </tr>\n",
       "    <tr>\n",
       "      <th>3</th>\n",
       "      <td>AO</td>\n",
       "      <td>Angola</td>\n",
       "      <td>Angola</td>\n",
       "      <td>Africa</td>\n",
       "      <td>Middle Africa</td>\n",
       "    </tr>\n",
       "    <tr>\n",
       "      <th>4</th>\n",
       "      <td>AR</td>\n",
       "      <td>Argentina</td>\n",
       "      <td>Argentina</td>\n",
       "      <td>Americas</td>\n",
       "      <td>South America</td>\n",
       "    </tr>\n",
       "  </tbody>\n",
       "</table>\n",
       "</div>"
      ],
      "text/plain": [
       "        0                         1                     2         3  \\\n",
       "0  alpha2                 titlename             shortname    region   \n",
       "1      AM                   Armenia               Armenia      Asia   \n",
       "2      AN  the Netherlands Antilles  Netherlands Antilles  Americas   \n",
       "3      AO                    Angola                Angola    Africa   \n",
       "4      AR                 Argentina             Argentina  Americas   \n",
       "\n",
       "               4  \n",
       "0        region2  \n",
       "1   Western Asia  \n",
       "2      Caribbean  \n",
       "3  Middle Africa  \n",
       "4  South America  "
      ]
     },
     "execution_count": 24,
     "metadata": {},
     "output_type": "execute_result"
    }
   ],
   "source": [
    "import pandas as pd\n",
    "#There are a lot of files, just showing I know how to load them from our repo.\n",
    "WID_CC_url = 'https://raw.githubusercontent.com/data301-2021-winter1/group35-project/main/data/raw/WID_countries.csv?token=AVQ3CKOAI3BUWHQ44WMV2GLBNHBQ2'\n",
    "WID_CC = pd.read_csv(WID_CC_url, sep = \";\", header = None)\n",
    "#WID_CC.filter(like = 'AM', axis  = 0)\n",
    "WID_CC.head()"
   ]
  },
  {
   "cell_type": "code",
   "execution_count": null,
   "metadata": {},
   "outputs": [],
   "source": []
  }
 ],
 "metadata": {
  "kernelspec": {
   "display_name": "Python 3 (ipykernel)",
   "language": "python",
   "name": "python3"
  },
  "language_info": {
   "codemirror_mode": {
    "name": "ipython",
    "version": 3
   },
   "file_extension": ".py",
   "mimetype": "text/x-python",
   "name": "python",
   "nbconvert_exporter": "python",
   "pygments_lexer": "ipython3",
   "version": "3.9.5"
  }
 },
 "nbformat": 4,
 "nbformat_minor": 2
}
